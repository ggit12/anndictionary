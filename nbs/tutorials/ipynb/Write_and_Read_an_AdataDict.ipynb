{
 "cells": [
  {
   "cell_type": "markdown",
   "metadata": {},
   "source": [
    "# Write and Read AdataDict"
   ]
  },
  {
   "cell_type": "markdown",
   "metadata": {},
   "source": [
    "This tutorial demonstrates how to write and read an AdataDict to/from disk."
   ]
  },
  {
   "cell_type": "markdown",
   "metadata": {},
   "source": [
    "First, build an AdataDict to work with"
   ]
  },
  {
   "cell_type": "code",
   "execution_count": 4,
   "metadata": {},
   "outputs": [],
   "source": [
    "import anndict as adt\n",
    "import scanpy as sc\n",
    "\n",
    "#load an anndata\n",
    "adata = sc.datasets.pbmc3k_processed()\n",
    "\n",
    "# Build an AdataDict from this anndata\n",
    "adata_dict = adt.build_adata_dict(adata, strata_keys=['louvain'])"
   ]
  },
  {
   "cell_type": "markdown",
   "metadata": {},
   "source": [
    "## Write\n",
    "\n",
    "[write_adata_dict()](https://ggit12.github.io/anndictionary/api/adata_dict/generated/anndict.adata_dict.write_adata_dict.html) writes the adata_dict to the specified directory, with each value being written as a separate .h5ad file. In the specified directory, there will also be files (`adata_dict.hierarchy.json` and `adata_dict.db.json`) which are used internally by `AnnDictionary` when reading."
   ]
  },
  {
   "cell_type": "code",
   "execution_count": null,
   "metadata": {},
   "outputs": [],
   "source": [
    "my_path = 'path/to/adata_dict'\n",
    "adt.write_adata_dict(adata_dict, my_path) # write the AdataDict to disk"
   ]
  },
  {
   "cell_type": "markdown",
   "metadata": {},
   "source": [
    "## Read"
   ]
  },
  {
   "cell_type": "markdown",
   "metadata": {},
   "source": [
    "Then read with:"
   ]
  },
  {
   "cell_type": "code",
   "execution_count": null,
   "metadata": {},
   "outputs": [],
   "source": [
    "adata_dict = adt.read_adata_dict(my_path) # read the AdataDict from disk"
   ]
  }
 ],
 "metadata": {
  "kernelspec": {
   "display_name": "adt_tuto",
   "language": "python",
   "name": "python3"
  },
  "language_info": {
   "codemirror_mode": {
    "name": "ipython",
    "version": 3
   },
   "file_extension": ".py",
   "mimetype": "text/x-python",
   "name": "python",
   "nbconvert_exporter": "python",
   "pygments_lexer": "ipython3",
   "version": "3.12.9"
  }
 },
 "nbformat": 4,
 "nbformat_minor": 2
}
