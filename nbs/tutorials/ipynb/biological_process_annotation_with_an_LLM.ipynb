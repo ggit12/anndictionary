{
 "cells": [
  {
   "cell_type": "markdown",
   "id": "7604904d",
   "metadata": {},
   "source": [
    "# Annotating Gene Sets with Biological Processes Using an LLM\n",
    "\n",
    "This notebook shows how to use AnnDictionary's functions to have LLMs label a set of genes based on the biological process that they may represent. To demonstrate this functionality, we'll re-annotate some known gene sets from GO Biological Process (GOBP)"
   ]
  },
  {
   "cell_type": "markdown",
   "id": "00ccd014",
   "metadata": {},
   "source": [
    "## Skip the tutorial\n",
    "In case you want to skip the tutorial, here's all the code you need to run this type of annotation."
   ]
  },
  {
   "cell_type": "markdown",
   "id": "fa9f3972",
   "metadata": {},
   "source": [
    "### To annotate a list of genes:\n",
    "``` python\n",
    "import anndict as adt\n",
    "gene_list = ['gene1', 'gene2', 'gene3']\n",
    "annotation = adt.ai_biological_process(gene_list=gene_list)"
   ]
  },
  {
   "cell_type": "markdown",
   "id": "098ef8a3",
   "metadata": {},
   "source": [
    "### To annotate the results of rank_genes_groups in an AnnData object:\n",
    "\n",
    "\n",
    "``` python\n",
    "import anndict as adt\n",
    "\n",
    "#The results will be returned and also stored in `adata.obs['ai_biological_process']`.\n",
    "annotation_df = adt.ai_annotate_biological_process(adata, groupby='disease vs. control', n_top_genes=10, new_label_column='ai_biological_process')"
   ]
  },
  {
   "cell_type": "markdown",
   "id": "b94443c4",
   "metadata": {},
   "source": [
    "## Begin the tutorial"
   ]
  },
  {
   "cell_type": "code",
   "execution_count": null,
   "id": "f22f44fc",
   "metadata": {},
   "outputs": [],
   "source": [
    "import anndict as adt\n",
    "import gseapy as gp"
   ]
  },
  {
   "cell_type": "code",
   "execution_count": null,
   "id": "6741efb8",
   "metadata": {},
   "outputs": [],
   "source": [
    "# Configure LLM backend\n",
    "adt.configure_llm_backend(provider='anthropic',\n",
    "                          model='claude-3-5-sonnet-20240620',\n",
    "                          api_key='my-anthropic-api-key',\n",
    "                          requests_per_minute=100\n",
    "                          )"
   ]
  },
  {
   "cell_type": "markdown",
   "id": "2dcf246c",
   "metadata": {},
   "source": [
    "We'll use `gseapy` to access the GOBP database, and re-annotate some gene lists of known process."
   ]
  },
  {
   "cell_type": "code",
   "execution_count": 5,
   "id": "8a029577",
   "metadata": {},
   "outputs": [
    {
     "name": "stdout",
     "output_type": "stream",
     "text": [
      "Total GOBP terms: 5,406\n"
     ]
    }
   ],
   "source": [
    "# Download the latest Human GOBP gene set collection (2023 release on Enrichr)\n",
    "gobp = gp.get_library(name=\"GO_Biological_Process_2023\", organism=\"Human\")  # dict: {term: [genes]}\n",
    "\n",
    "# Inspect how many gene sets were retrieved\n",
    "print(f\"Total GOBP terms: {len(gobp):,}\")"
   ]
  },
  {
   "cell_type": "code",
   "execution_count": null,
   "id": "469819af",
   "metadata": {},
   "outputs": [
    {
     "name": "stdout",
     "output_type": "stream",
     "text": [
      "\n",
      "'De Novo' AMP Biosynthetic Process (GO:0044208) (6 genes)\n",
      "ATIC, PAICS, PFAS, ADSS1, ADSS2, GART ...\n",
      "\n",
      "'De Novo' Post-Translational Protein Folding (GO:0051084) (32 genes)\n",
      "SDF2L1, HSPA9, CCT2, HSPA6, ST13, ENTPD5, HSPA1L, HSPA5, PTGES3, HSPA8, HSPA7, DNAJB13, HSPA2, DNAJB14, HSPE1 ...\n",
      "\n",
      "2-Oxoglutarate Metabolic Process (GO:0006103) (14 genes)\n",
      "IDH1, PHYH, GOT2, MRPS36, GOT1, IDH2, ADHFE1, GPT2, TAT, DLST, OGDHL, L2HGDH, D2HGDH, OGDH ...\n"
     ]
    }
   ],
   "source": [
    "# Grab any three terms\n",
    "terms_of_interest = list(gobp.keys())[:3]\n",
    "\n",
    "# Build a dictionary of the selected gene sets\n",
    "selected_gene_sets = {term: gobp[term] for term in terms_of_interest}\n",
    "\n",
    "# Display the gene symbols for each selected term (truncate for readability)\n",
    "for term, genes in selected_gene_sets.items():\n",
    "    print(f\"\\n{term} ({len(genes)} genes)\")\n",
    "    print(\", \".join(genes[:15]), \"...\")       # first 15 genes as a preview"
   ]
  },
  {
   "cell_type": "code",
   "execution_count": 8,
   "id": "703f26e6",
   "metadata": {},
   "outputs": [
    {
     "name": "stderr",
     "output_type": "stream",
     "text": [
      "/Users/geocr/repos-local/anndict/anndict/llm/base_llm_initializer.py:49: LangChainBetaWarning: Introduced in 0.2.24. API subject to change.\n",
      "  return InMemoryRateLimiter(\n",
      "/Users/geocr/repos-local/anndict/anndict/llm/llm_manager.py:309: LangChainDeprecationWarning: The method `BaseChatModel.__call__` was deprecated in langchain-core 0.1.7 and will be removed in 1.0. Use invoke instead.\n",
      "  response = llm(langchain_messages, **kwargs)\n"
     ]
    }
   ],
   "source": [
    "# Now, Let's annotate these known gene sets with an LLM\n",
    "llm_annotation = {}\n",
    "for term, genes in selected_gene_sets.items():\n",
    "    llm_annotation[term] = adt.ai_biological_process(gene_list=genes)"
   ]
  },
  {
   "cell_type": "markdown",
   "id": "36920624",
   "metadata": {},
   "source": [
    "Now, we can view the results. Here, the keys are the label of the pathway in GOBP, and the values are the LLM-derived label of the same pathway. These example results have remarkable agreement."
   ]
  },
  {
   "cell_type": "code",
   "execution_count": null,
   "id": "269fce4e",
   "metadata": {},
   "outputs": [
    {
     "data": {
      "text/plain": [
       "{\"'De Novo' AMP Biosynthetic Process (GO:0044208)\": 'Purine biosynthesis pathway',\n",
       " \"'De Novo' Post-Translational Protein Folding (GO:0051084)\": 'Protein folding and chaperone-mediated quality control.',\n",
       " '2-Oxoglutarate Metabolic Process (GO:0006103)': 'Mitochondrial tricarboxylic acid (TCA) cycle and related metabolic pathways.'}"
      ]
     },
     "execution_count": 9,
     "metadata": {},
     "output_type": "execute_result"
    }
   ],
   "source": [
    "# And View the results\n",
    "llm_annotation"
   ]
  }
 ],
 "metadata": {
  "kernelspec": {
   "display_name": "adt_tuto",
   "language": "python",
   "name": "python3"
  },
  "language_info": {
   "codemirror_mode": {
    "name": "ipython",
    "version": 3
   },
   "file_extension": ".py",
   "mimetype": "text/x-python",
   "name": "python",
   "nbconvert_exporter": "python",
   "pygments_lexer": "ipython3",
   "version": "3.12.9"
  }
 },
 "nbformat": 4,
 "nbformat_minor": 5
}
