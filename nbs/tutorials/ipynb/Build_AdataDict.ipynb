{
 "cells": [
  {
   "cell_type": "markdown",
   "metadata": {},
   "source": [
    "# Build an AdataDict"
   ]
  },
  {
   "cell_type": "markdown",
   "metadata": {},
   "source": [
    "This tutorial demonstrates how to build an AdataDict.\n",
    "<br>\n",
    "\n",
    "There are two ways to build an AdataDict:\n",
    "1. From an already loaded anndata object\n",
    "2. Reading anndata into an AdataDict from disk"
   ]
  },
  {
   "cell_type": "markdown",
   "metadata": {},
   "source": [
    "## 1. From an already loaded anndata\n",
    "The main function for this method is [`build_adata_dict()`](https://ggit12.github.io/anndictionary/api/adata_dict/generated/anndict.adata_dict.build_adata_dict.html#anndict.adata_dict.build_adata_dict)."
   ]
  },
  {
   "cell_type": "code",
   "execution_count": 1,
   "metadata": {},
   "outputs": [],
   "source": [
    "import anndict as adt\n",
    "import scanpy as sc\n",
    "\n",
    "#load an anndata\n",
    "adata = sc.datasets.pbmc3k_processed()\n",
    "\n",
    "# Rename obs column (for legibility)\n",
    "adata.obs['cell_type'] = adata.obs['louvain']\n",
    "\n",
    "# Build an AdataDict from this anndata\n",
    "adata_dict = adt.build_adata_dict(adata, strata_keys=['cell_type'])\n",
    "\n",
    "# We can optionally select only certain groups when we make the adata_dict\n",
    "# The desired_strata are specified as a list of tuples becaues the keys of an AdataDict are tuples\n",
    "adata_dict = adt.build_adata_dict(adata, strata_keys=['cell_type'], desired_strata=[('CD4 T cells',), ('CD14+ Monocytes',)])"
   ]
  },
  {
   "cell_type": "markdown",
   "metadata": {},
   "source": [
    "## 2. Reading anndata into an AdataDict from disk\n",
    "\n",
    "The main function used for this method is [`read_adata_dict_from_h5ad()`](https://ggit12.github.io/anndictionary/api/adata_dict/generated/anndict.adata_dict.read_adata_dict_from_h5ad.html). Note that it can be used in several ways as outlined below."
   ]
  },
  {
   "cell_type": "code",
   "execution_count": null,
   "metadata": {},
   "outputs": [],
   "source": [
    "adata_dict = adt.read_adata_dict_from_h5ad('path/to/anndata.h5ad') # To load anndata.h5ad into a single-element AdataDict\n",
    "adata_dict = adt.read_adata_dict_from_h5ad('path/to/dir/with/several/anndata/') # To load all anndata.h5ad files in a directory into an AdataDict (1 element per h5ad file)\n",
    "adata_dict = adt.read_adata_dict_from_h5ad(['path/to/anndata.h5ad', 'path/to/dir/with/several/anndata/']) # Loads everything in the list into an AdataDict\n",
    "\n",
    "# You can also manuall specifiy the AdataDict keys when you load\n",
    "adata_dict = adt.read_adata_dict_from_h5ad(['path/to/anndata1.h5ad', 'path/to/anndata2.h5ad'], keys=['ad1', 'ad2'])"
   ]
  }
 ],
 "metadata": {
  "kernelspec": {
   "display_name": "adt_tuto",
   "language": "python",
   "name": "python3"
  },
  "language_info": {
   "codemirror_mode": {
    "name": "ipython",
    "version": 3
   },
   "file_extension": ".py",
   "mimetype": "text/x-python",
   "name": "python",
   "nbconvert_exporter": "python",
   "pygments_lexer": "ipython3",
   "version": "3.12.9"
  }
 },
 "nbformat": 4,
 "nbformat_minor": 2
}
