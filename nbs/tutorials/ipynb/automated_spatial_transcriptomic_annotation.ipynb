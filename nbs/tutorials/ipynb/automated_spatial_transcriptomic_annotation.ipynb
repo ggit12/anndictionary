{
 "cells": [
  {
   "cell_type": "markdown",
   "metadata": {},
   "source": [
    "# Automated Annotation of Spatial Transcriptomics"
   ]
  },
  {
   "cell_type": "markdown",
   "metadata": {},
   "source": [
    "This notebook uses an automated pipeline to label spatial transcriptomic datasets. Here's how it works:\n",
    "1. Create adata from spatial transcriptomic data via binning.\n",
    "2. Use UCE (Universal Cell Embedding) to embed both single cell and spatial transcriptomic data.\n",
    "3. Train a classifier (on UCE of single cell data) to learn cell type labels.\n",
    "4. Use classifer to predict cell type of each spatial bin.\n",
    "\n",
    "This tutorial will use mouse single cell and spatial data. Merscope, Visium, VisiumHD, and Xenium are all supported."
   ]
  },
  {
   "cell_type": "markdown",
   "metadata": {},
   "source": [
    "The tutorial [cell_type_annotation_with_a_label_transfer_model]() is also a good reference for the label transfer"
   ]
  },
  {
   "cell_type": "markdown",
   "metadata": {},
   "source": [
    "To start, we need the UCE embeddings of the single cell data. Cellxgene census has the UCE embedding of the single cell data already."
   ]
  },
  {
   "cell_type": "markdown",
   "metadata": {},
   "source": [
    "## Get Single Cell Data"
   ]
  },
  {
   "cell_type": "code",
   "execution_count": null,
   "metadata": {},
   "outputs": [],
   "source": [
    "import anndict as adt\n",
    "import cellxgene_census\n",
    "\n",
    "census = cellxgene_census.open_soma(census_version=\"2023-12-15\")\n",
    "adata = cellxgene_census.get_anndata(\n",
    "    census,\n",
    "    organism = \"mus_musculus\",\n",
    "    measurement_name = \"RNA\",\n",
    "    obs_value_filter = \"(tissue_general == 'heart') |  (tissue_general == 'liver')\",\n",
    "    obs_embeddings = [\"uce\"]\n",
    ")"
   ]
  },
  {
   "cell_type": "markdown",
   "metadata": {},
   "source": [
    "Next, we break the single cell adata into a per-tissue adata_dict and (we'll eventually train a separate classifier on each tissue)."
   ]
  },
  {
   "cell_type": "code",
   "execution_count": null,
   "metadata": {},
   "outputs": [],
   "source": [
    "#build dict\n",
    "adata_dict = adt.build_adata_dict(adata, strata_keys=['tissue'], desired_strata=[('heart',), ('liver',)])\n",
    "\n",
    "#Downsample dict and remove celltypes with a small number of cells\n",
    "#This helps speed up classifier training.\n",
    "adata_dict = adt.wrappers.sample_and_drop_adata_dict(adata_dict, strata_keys=['cell_type'], min_num_cells=50, n_obs=1000)"
   ]
  },
  {
   "cell_type": "markdown",
   "metadata": {},
   "source": [
    "## Load Spatial Data"
   ]
  },
  {
   "cell_type": "markdown",
   "metadata": {},
   "source": [
    "Now, load the spatial data."
   ]
  },
  {
   "cell_type": "markdown",
   "metadata": {},
   "source": [
    "The first step here is to create anndata from raw spatial data (i.e. transcript coordinates and identity stored in a file called transcripts.csv or detected_transcripts.csv)"
   ]
  },
  {
   "cell_type": "markdown",
   "metadata": {},
   "source": [
    "AnnDictionary offers two ways to build adata from raw spatial data:\n",
    "1. [build_adata_from_transcript_positions()](https://ggit12.github.io/anndictionary/api/utils/generated/anndict.utils.build_adata_from_transcript_positions.html#anndict.utils.build_adata_from_transcript_positions) each cell in this adata will contain all the transcripts from a box of a user-defined size.\n",
    "2. [build_adata_from_visium()](https://ggit12.github.io/anndictionary/api/utils/generated/anndict.utils.build_adata_from_visium.html) same thing, but the box size is already defined.\n",
    "\n",
    "For this tutorial, we use `build_adata_from_transcript_positions()` because we're dealing with Merscope data, but the syntax is similar for `build_adata_from_visium()`."
   ]
  },
  {
   "cell_type": "code",
   "execution_count": null,
   "metadata": {},
   "outputs": [],
   "source": [
    "#This dictionary should be {input_path: output_path}, where input_path is a csv file path, and output_path is where the anndata will be written\n",
    "#Note, input paths can be .csv or .parquet!\n",
    "paths_dict = {\n",
    "    '~/dat/detected_transcripts_liver.csv': '~/dat/liver_st_merscope.h5ad',\n",
    "    '~/dat/detected_transcripts_heart.csv': '~/dat/heart_st_merscope.h5ad'\n",
    "    }\n",
    "\n",
    "#This function should be used to generate adata from merscope or xenium output. For Visium you can use adt.build_adata_from_visium(paths_dict, hd=False) (see docs, set hd=True for Visium HD)\n",
    "adt.build_adata_from_transcript_positions(paths_dict, box_size=16, step_size=16, platform=\"Merscope\")\n",
    "\n",
    "#Commented-out example for Visium HD\n",
    "# paths_dict = {\n",
    "#     '~/visium_hd_runs/liver/16_micron_binsize': '~/dat/liver_visium_hd.h5ad',\n",
    "#     '~/visium_hd_runs/heart/16_micron_binsize': '~/dat/heart_visium_hd.h5ad'\n",
    "#     }\n",
    "\n",
    "#Generate adata from visium\n",
    "# adt.build_adata_from_visium(paths_dict, hd=True)"
   ]
  },
  {
   "cell_type": "markdown",
   "metadata": {},
   "source": [
    "Next, We need to calculate UCE Embedding of Merscope data. `anndict` has a function for that. Note, the function below (while it will work), is included for demonstration purposes only. It should be run with access to a gpu to decrease computational time."
   ]
  },
  {
   "cell_type": "code",
   "execution_count": null,
   "metadata": {},
   "outputs": [],
   "source": [
    "adt.UCE_adata(['~/dat/liver_st_merscope.h5ad',\n",
    "               '~/dat/heart_st_merscope.h5ad'])"
   ]
  },
  {
   "cell_type": "code",
   "execution_count": null,
   "metadata": {},
   "outputs": [],
   "source": [
    "#Load the UCE embeddings of the spatial data as an adata_dict\n",
    "#Note: it's import that the keys of spatial_dict match the keys of adata_dict\n",
    "spatial_dict = adt.read_adata_dict_from_h5ad(['~/UCE/uce_wd/heart_st_merscope_uce_adata.h5ad', '~/UCE/uce_wd/liver_st_merscope_uce_adata.h5ad'], keys=[('heart',), ('liver',)])"
   ]
  },
  {
   "cell_type": "markdown",
   "metadata": {},
   "source": [
    "## Predict Cell Types"
   ]
  },
  {
   "cell_type": "code",
   "execution_count": null,
   "metadata": {},
   "outputs": [],
   "source": [
    "#Transfer the labels\n",
    "from sklearn.linear_model import LogisticRegression\n",
    "\n",
    "# Note, if SLURM_CPUS_PER_TASK and/or SLURM_NTASKS environment variables are set, the function will automatically determine number of cores and multithread using adt.get_slurm_cores()\n",
    "adt.adata_dict_fapply(\n",
    "    adata_dict,\n",
    "    adt.transfer_labels_using_classifier,\n",
    "    destination_adata=spatial_dict,\n",
    "    origin_label_key=\"cell_type\", \n",
    "    feature_key=\"uce\", #the key in origin_adata.obsm that contains the features you want to use for label transfer\n",
    "    classifier=LogisticRegression,\n",
    "    new_column_name=\"predicted_cell_type\",\n",
    "    random_state=42 #for reproducibility\n",
    "    )"
   ]
  },
  {
   "cell_type": "markdown",
   "metadata": {},
   "source": [
    "## Plot"
   ]
  },
  {
   "cell_type": "code",
   "execution_count": null,
   "metadata": {},
   "outputs": [],
   "source": [
    "#Plot the results\n",
    "adt.wrappers.plot_spatial_adata_dict(spatial_dict, ['predicted_cell_type'])"
   ]
  },
  {
   "cell_type": "markdown",
   "metadata": {},
   "source": [
    "## Save"
   ]
  },
  {
   "cell_type": "code",
   "execution_count": null,
   "metadata": {},
   "outputs": [],
   "source": [
    "#save the labeled data\n",
    "adt.write_adata_dict(spatial_dict, filename=\"path/to/your/labeled/spatial_dict\")"
   ]
  }
 ],
 "metadata": {
  "kernelspec": {
   "display_name": "testing",
   "language": "python",
   "name": "python3"
  },
  "language_info": {
   "codemirror_mode": {
    "name": "ipython",
    "version": 3
   },
   "file_extension": ".py",
   "mimetype": "text/x-python",
   "name": "python",
   "nbconvert_exporter": "python",
   "pygments_lexer": "ipython3",
   "version": "3.12.2"
  }
 },
 "nbformat": 4,
 "nbformat_minor": 2
}
