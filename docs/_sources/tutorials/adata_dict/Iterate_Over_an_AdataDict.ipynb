{
 "cells": [
  {
   "cell_type": "markdown",
   "metadata": {},
   "source": [
    "# Iterate Over an AdataDict\n",
    "\n",
    "This tutorial demonstrates how to iterate over an AdataDict.\n",
    "<br>\n",
    "\n",
    "Iteration over an AdataDict is handled by the [`.fapply()`](https://ggit12.github.io/anndictionary/api/adata_dict/generated/anndict.AdataDict.fapply.html#anndict.AdataDict.fapply) method, which wraps the function [`adata_dict_fapply()`](https://ggit12.github.io/anndictionary/api/adata_dict/generated/anndict.adata_dict.adata_dict_fapply.html#anndict.adata_dict.adata_dict_fapply) (which can be used separately as a function call if you prefer)."
   ]
  },
  {
   "cell_type": "markdown",
   "metadata": {},
   "source": [
    "In general, the way to think about working with an `AdataDict` is to:\n",
    "1. Think about what you want to do in terms of operating on a single AnnData\n",
    "2. Write a function my_func that does the operations.\n",
    "3. Apply it to each anndata in AdataDict with `.fapply(my_func)\n",
    "\n",
    "Below is an example of this design."
   ]
  },
  {
   "cell_type": "markdown",
   "metadata": {},
   "source": [
    "First, build the AdataDict."
   ]
  },
  {
   "cell_type": "code",
   "execution_count": 11,
   "metadata": {},
   "outputs": [],
   "source": [
    "import anndict as adt\n",
    "import scanpy as sc\n",
    "\n",
    "#load an anndata\n",
    "adata = sc.datasets.pbmc3k_processed()\n",
    "\n",
    "# Rename obs column (for legibility)\n",
    "adata.obs['cell_type'] = adata.obs['louvain']\n",
    "\n",
    "# Build an AdataDict from this anndata\n",
    "adata_dict = adt.build_adata_dict(adata, strata_keys=['cell_type'])"
   ]
  },
  {
   "cell_type": "markdown",
   "metadata": {},
   "source": [
    "Then, let's say we have some analysis pipeline called `my_analysis_pipeline` that we want to try running on each celltype separatley. Here's how we'd do that with an `AdataDict`."
   ]
  },
  {
   "cell_type": "markdown",
   "metadata": {},
   "source": [
    "First, define a function that takes adata and runs the analysis pipeline on it. That would look like this:"
   ]
  },
  {
   "cell_type": "code",
   "execution_count": null,
   "metadata": {},
   "outputs": [],
   "source": [
    "def my_analysis_pipeline(adata, some_param=0.5, other_param=None, **kwargs):\n",
    "    \"\"\"\n",
    "    This is my analysis pipeline. It takes an anndata and two parameters for processing.\n",
    "    \"\"\"\n",
    "\n",
    "    #First, normalize the adata to 10k reads per cell\n",
    "    sc.pp.normalize_total(adata, target_sum=1e4)\n",
    "\n",
    "    #Then, run some function on it\n",
    "    result_of_my_pipeline = my_custom_func(adata, some_param=some_param)\n",
    "\n",
    "    return result_of_my_pipeline"
   ]
  },
  {
   "cell_type": "markdown",
   "metadata": {},
   "source": [
    "This pipeline does the following:\n",
    "- normalize the adata\n",
    "- run's some other function that takes the keyword argument `some_param`\n",
    "- returns the result of this function (whatever this result is, could be a number, a plot, a dataframe, an anndata, etc)\n",
    "\n",
    "Then, to run this pipeline on each adata in `adata_dict`, we'd use `.fapply` as follows."
   ]
  },
  {
   "cell_type": "markdown",
   "metadata": {},
   "source": [
    "This code will run `my_analysis_pipeline` on each adata in adata_dict, passing `some_param=0.5` each time."
   ]
  },
  {
   "cell_type": "code",
   "execution_count": null,
   "metadata": {},
   "outputs": [],
   "source": [
    "#Run the function on each adata in adata_dict\n",
    "all_results = adata_dict.fapply(my_analysis_pipeline, some_param=0.5)"
   ]
  },
  {
   "cell_type": "markdown",
   "metadata": {},
   "source": [
    "The return behavior of `adata_dict.fapply(func)` is governed by the return behaviour of `func`. `.fapply` will return:\n",
    "- a dictionary of the same structure as `adata_dict` and matching keys, containg the return of `func` as values.\n",
    "- `None` if `func` returns `None` on each adata in `adata_dict`\n",
    "\n",
    "In this case, all_results will be a dictionary of return values because we've defined `my_analysis_pipeline` to return some value."
   ]
  },
  {
   "cell_type": "markdown",
   "metadata": {},
   "source": [
    "Now, let's consider a slightly more complicated case. Let's say we want the value of `some_param` to be different for each adata in `adata_dict`. In this case, you can pass a dictionary (with the same keys and structure as `adata_dict`) to the `some_param` argument, and `.fapply` will pass the right value of `some_param` for each adata."
   ]
  },
  {
   "cell_type": "code",
   "execution_count": 12,
   "metadata": {},
   "outputs": [
    {
     "data": {
      "text/plain": [
       "dict_keys([('CD4 T cells',), ('CD14+ Monocytes',), ('B cells',), ('CD8 T cells',), ('NK cells',), ('FCGR3A+ Monocytes',), ('Dendritic cells',), ('Megakaryocytes',)])"
      ]
     },
     "execution_count": 12,
     "metadata": {},
     "output_type": "execute_result"
    }
   ],
   "source": [
    "# We'll need an entry for each cell type:\n",
    "adata_dict.keys()"
   ]
  },
  {
   "cell_type": "code",
   "execution_count": null,
   "metadata": {},
   "outputs": [],
   "source": [
    "# Manually define the dictionary to pass to some_param\n",
    "some_param_dict = {\n",
    "    ('CD4 T cells',): 0.5,\n",
    "    ('CD14+ Monocytes',): 0.6,\n",
    "    ('B cells',): 0.4,\n",
    "    ('CD8 T cells',): 0.7,\n",
    "    ('NK cells',): 0.3,\n",
    "    ('FCGR3A+ Monocytes',): 0.6,\n",
    "    ('Dendritic cells',): 0.8,\n",
    "    ('Megakaryocytes',): 0.9\n",
    "}"
   ]
  },
  {
   "cell_type": "markdown",
   "metadata": {},
   "source": [
    "We can also take advantage of the fact that fapply returns a dictionary of the same structure as the adata_dict on which it was called to create the argument dictionary like this:"
   ]
  },
  {
   "cell_type": "code",
   "execution_count": null,
   "metadata": {},
   "outputs": [],
   "source": [
    "def determine_param(adata):\n",
    "    \"\"\"\n",
    "    This function will calculate the argument to pass to some_param.\n",
    "    \"\"\"\n",
    "    param_value = some_func(adata)\n",
    "    return param_value\n",
    "\n",
    "some_param_dict = adata_dict.fapply(determine_param) # This will return a dictionary with the correct structure and keys."
   ]
  },
  {
   "cell_type": "markdown",
   "metadata": {},
   "source": [
    "Then pass the dictionary argument to `.fapply()`"
   ]
  },
  {
   "cell_type": "code",
   "execution_count": null,
   "metadata": {},
   "outputs": [],
   "source": [
    "all_results = adata_dict.fapply(my_analysis_pipeline, some_param=some_param_dict) #This gives a different value of some_param for each cell type."
   ]
  },
  {
   "cell_type": "markdown",
   "metadata": {},
   "source": [
    "`.fapply()` can handle a mix of global and adata-specific arguments. For example, you can do this:"
   ]
  },
  {
   "cell_type": "code",
   "execution_count": null,
   "metadata": {},
   "outputs": [],
   "source": [
    "all_results = adata_dict.fapply(my_analysis_pipeline, some_param=some_param_dict, other_param=0.5)"
   ]
  },
  {
   "cell_type": "markdown",
   "metadata": {},
   "source": [
    "And finally, you can define your `func` to take a parameter called `adt_key` to make the `adata_dict` key available to `func` when `func` is passed to fapply."
   ]
  },
  {
   "cell_type": "code",
   "execution_count": null,
   "metadata": {},
   "outputs": [],
   "source": [
    "def my_analysis_pipeline_with_adt_key(adata, some_param=0.5, other_param=None, adt_key=None, **kwargs):\n",
    "    \"\"\"\n",
    "    This is my analysis pipeline. It takes an anndata and two parameters for processing and prints the current key being processed.\n",
    "    \"\"\"\n",
    "\n",
    "    print(f\"Processing: {adt_key}\")\n",
    "    #First, normalize the adata to 10k reads per cell\n",
    "    sc.pp.normalize_total(adata, target_sum=1e4)\n",
    "\n",
    "    #Then, run some function on it\n",
    "    result_of_my_pipeline = my_custom_func(adata, some_param=some_param)\n",
    "\n",
    "    return result_of_my_pipeline"
   ]
  },
  {
   "cell_type": "code",
   "execution_count": null,
   "metadata": {},
   "outputs": [],
   "source": [
    "all_results = adata_dict.fapply(my_analysis_pipeline_with_adt_key, some_param=some_param_dict, other_param=0.5) # This will now print out each key of adata_dict as it is processed."
   ]
  }
 ],
 "metadata": {
  "kernelspec": {
   "display_name": "adt_tuto",
   "language": "python",
   "name": "python3"
  },
  "language_info": {
   "codemirror_mode": {
    "name": "ipython",
    "version": 3
   },
   "file_extension": ".py",
   "mimetype": "text/x-python",
   "name": "python",
   "nbconvert_exporter": "python",
   "pygments_lexer": "ipython3",
   "version": "3.12.9"
  }
 },
 "nbformat": 4,
 "nbformat_minor": 2
}
