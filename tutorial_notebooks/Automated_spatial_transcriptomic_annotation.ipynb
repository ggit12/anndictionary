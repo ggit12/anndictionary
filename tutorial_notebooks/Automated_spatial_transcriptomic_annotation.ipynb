{
 "cells": [
  {
   "cell_type": "markdown",
   "metadata": {},
   "source": [
    "This notebook uses an automated pipeline to label spatial transcriptomic datasets. Here's how it works:\n",
    "1. Use UCE (Universal Cell Embedding) to embedd both single cell and spatial transcriptomic data\n",
    "2. Train a classifier (on UCE of single cell data) to learn cell type labels\n",
    "3. Use classifer to predict cell type of each spatial bin\n",
    "\n",
    "This tutorial will use mouse single cell and spatial data (merscope)."
   ]
  },
  {
   "cell_type": "markdown",
   "metadata": {},
   "source": [
    "To start, we need the UCE embeddings of the single cell data. Cellxgene census has the UCE embedding of the single cell data already."
   ]
  },
  {
   "cell_type": "code",
   "execution_count": null,
   "metadata": {},
   "outputs": [],
   "source": [
    "import anndict as adt"
   ]
  },
  {
   "cell_type": "markdown",
   "metadata": {},
   "source": [
    "import cellxgene_census\n",
    "\n",
    "census = cellxgene_census.open_soma(census_version=\"2023-12-15\")\n",
    "adata = cellxgene_census.get_anndata(\n",
    "    census,\n",
    "    organism = \"mus_musculus\",\n",
    "    measurement_name = \"RNA\",\n",
    "    obs_value_filter = \"(tissue_general == 'heart') |  (tissue_general == 'liver')\",\n",
    "    obs_embeddings = [\"uce\"]\n",
    ")"
   ]
  },
  {
   "cell_type": "markdown",
   "metadata": {},
   "source": [
    "Next, we break the single cell adata into a per-tissue adata_dict and will train a separate classifier on each tissue."
   ]
  },
  {
   "cell_type": "code",
   "execution_count": null,
   "metadata": {},
   "outputs": [],
   "source": [
    "#build dict\n",
    "adata_dict = adt.build_adata_dict(adata, ['tissue'], ['heart', 'liver'])\n",
    "\n",
    "#Downsample dict and remove celltypes with a small number of cells\n",
    "#This helps speed up classifier training\n",
    "adata_dict = adt.resample_adata_dict(adata_dict, strata_keys=['cell_type'], min_num_cells=50, n_obs=1000)"
   ]
  },
  {
   "cell_type": "markdown",
   "metadata": {},
   "source": [
    "Now, train a classifier (logistic regression in this case, but could use any classifier, see docs for more info)"
   ]
  },
  {
   "cell_type": "code",
   "execution_count": null,
   "metadata": {},
   "outputs": [],
   "source": [
    "#If SLURM_CPUS_PER_TASK and/or SLURM_NTASKS environment variables are set, the function will automatically determine number of cores and multithread using adict.get_slurm_cores()\n",
    "from sklearn.datasets import make_classification\n",
    "from sklearn.linear_model import LogisticRegression\n",
    "\n",
    "#When setting max_iterations=1, this function will simply train a classifier independently on each adata in adata_dict\n",
    "stable_label_results = adt.stable_label_adata_dict(adata_dict,\n",
    "                        feature_key='uce',\n",
    "                        label_key='cell_type',\n",
    "                        classifier_class=LogisticRegression,\n",
    "                        max_iterations=1,\n",
    "                        stability_threshold=0.01,\n",
    "                        moving_average_length=5,\n",
    "                        random_state=42,\n",
    "                        max_iter = 1000, #args for classifer construction (here and below)\n",
    "                        n_jobs=adt.get_slurm_cores())"
   ]
  },
  {
   "cell_type": "markdown",
   "metadata": {},
   "source": [
    "Great, now the cell type classifiers are trained on each tissue and ready to be applied to spatial transcriptomic data."
   ]
  },
  {
   "cell_type": "markdown",
   "metadata": {},
   "source": [
    "Next, We need to calculate UCE Embedding of Merscope data. `anndict` has functions for that."
   ]
  },
  {
   "cell_type": "markdown",
   "metadata": {},
   "source": [
    "The first step here is to create anndata from raw spatial data (i.e. transcript coordinates and identity stored in a file called tissue_positions.csv or tissue_positions.parquet)"
   ]
  },
  {
   "cell_type": "code",
   "execution_count": null,
   "metadata": {},
   "outputs": [],
   "source": [
    "#This dictionary should be {input_path: output_path}, where input_path is a parquet or csv file path, and output_path is where the anndata will be written\n",
    "#Note, input paths can be .csv or .parquet!\n",
    "paths_dict = {\n",
    "    '~/dat/detected_transcripts_liver.csv': '~/dat/liver_st_merscope.h5ad',\n",
    "    '~/dat/detected_transcripts_heart.csv': '~/dat/heart_st_merscope.h5ad'\n",
    "    }\n",
    "\n",
    "#This function should be used to generate adata from merscope or xenium output. For Visium use adt.build_adata_from_visium(paths_dict, hd=False) (see docs, set hd=True for Visium HD)\n",
    "adt.build_adata_from_transcript_positions(paths_dict, box_size=16, step_size=16, platform=\"Merscope\")\n",
    "\n",
    "#Commented-out example for Visium HD\n",
    "# paths_dict = {\n",
    "#     '~/visium_hd_runs/liver/16_micron_binsize': '~/dat/liver_visium_hd.h5ad',\n",
    "#     '~/visium_hd_runs/heart/16_micron_binsize': '~/dat/heart_visium_hd.h5ad'\n",
    "#     }\n",
    "\n",
    "#Generate adata from visium\n",
    "# adt.build_adata_from_visium(paths_dict, hd=True)"
   ]
  },
  {
   "cell_type": "markdown",
   "metadata": {},
   "source": [
    "Next, we need to UCE the spatial data. Note, the function below (while it will work), is included for demonstration purposes only. It's much slower than doing it properly in the command line on a gpu"
   ]
  },
  {
   "cell_type": "code",
   "execution_count": null,
   "metadata": {},
   "outputs": [],
   "source": [
    "adt.UCE_adata(['~/dat/liver_st_merscope.h5ad',\n",
    "               '~/dat/heart_st_merscope.h5ad'])"
   ]
  },
  {
   "cell_type": "code",
   "execution_count": 6,
   "metadata": {},
   "outputs": [],
   "source": [
    "#Load the UCE embeddings of the spatial data as an adata_dict\n",
    "#Note: it's import that the keys of st_dict match the keys of adata_dict\n",
    "st_dict = {'heart' : sc.read_h5ad('~/UCE/uce_wd/heart_st_merscope_uce_adata.h5ad'),\n",
    "            'liver' : sc.read_h5ad('~/UCE/uce_wd/liver_st_merscope_uce_adata.h5ad')\n",
    "            }"
   ]
  },
  {
   "cell_type": "code",
   "execution_count": null,
   "metadata": {},
   "outputs": [],
   "source": [
    "#apply trained classifiers to the st adata to annotate it.\n",
    "predicted_labels_dict = adt.predict_labels_adata_dict(\n",
    "    st_dict,\n",
    "    stable_label_results,\n",
    "    feature_key='uce'\n",
    ")\n",
    "\n",
    "#actually assign labels back to the st adata\n",
    "adt.update_adata_labels_with_predictions_dict(st_dict, predicted_labels_dict, new_label_key='predicted_cell_type')"
   ]
  },
  {
   "cell_type": "code",
   "execution_count": 8,
   "metadata": {},
   "outputs": [],
   "source": [
    "#Plot the results\n",
    "adt.plot_spatial_adata_dict(st_dict, ['predicted_cell_type'])"
   ]
  }
 ],
 "metadata": {
  "kernelspec": {
   "display_name": "testing",
   "language": "python",
   "name": "python3"
  },
  "language_info": {
   "codemirror_mode": {
    "name": "ipython",
    "version": 3
   },
   "file_extension": ".py",
   "mimetype": "text/x-python",
   "name": "python",
   "nbconvert_exporter": "python",
   "pygments_lexer": "ipython3",
   "version": "3.12.2"
  }
 },
 "nbformat": 4,
 "nbformat_minor": 2
}
