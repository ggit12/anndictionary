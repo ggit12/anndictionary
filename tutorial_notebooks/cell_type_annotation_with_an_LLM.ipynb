{
 "cells": [
  {
   "cell_type": "markdown",
   "metadata": {},
   "source": [
    "# AnnDictionary\n",
    "A package for processing multiple `anndata` objects in parallel with LLMs"
   ]
  },
  {
   "cell_type": "markdown",
   "metadata": {},
   "source": [
    "# Documentation\n",
    "\n",
    "Complete documentation covering all functions and modules is available at https://ggit12.github.io/anndictionary. We are actively working to enhance its appearance and improve the overall user experience.\n"
   ]
  },
  {
   "cell_type": "markdown",
   "metadata": {},
   "source": [
    "# Citation\n",
    "\n",
    "If you use this package, please cite:\n",
    "\n",
    "> #### Benchmarking Cell Type Annotation by Large Language Models with AnnDictionary  \n",
    "> **George Crowley, Tabula Sapiens Consortium, Stephen R. Quake**  \n",
    "> *bioRxiv* 2024.10.10.617605  \n",
    "> [doi: https://doi.org/10.1101/2024.10.10.617605](https://doi.org/10.1101/2024.10.10.617605)\n"
   ]
  },
  {
   "cell_type": "markdown",
   "metadata": {},
   "source": [
    "\n",
    "# Install\n",
    "Copy and paste the code below into a terminal window to download this package and install it in a conda env. It assumes conda is already installed.\n",
    "\n",
    "```bash\n",
    "git clone https://github.com/ggit12/anndictionary\n",
    "cd anndictionary\n",
    "conda create -n anndict python=3.12\n",
    "conda activate anndict\n",
    "pip install -e .\n",
    "```\n"
   ]
  },
  {
   "cell_type": "markdown",
   "metadata": {},
   "source": [
    "# About\n",
    "`AnnDictionary` is a package that lets you process multiple `anndata` objects in parallel with a simplified interface (so that you can avoid writing a bunch of for loops). This is accomplished by a dictionary-based wrapping of `scanpy`. We used the package to benchmark cell type annotaiton by 15 LLMs and maintain leaderboard at: https://singlecellgpt.com/celltype-annotation-leaderboard/.\n",
    "\n",
    "## AI to make things easier\n",
    "To make it easier to handle basics like cell type annotation for anndatas (one or many), and to make cell type labels agree across multiple anndatas, we provide AI-based processing to handle these tedious tasks. There are also AI-based functions to to biological process inference on gene lists.\n",
    "\n",
    "These functions include `ai_annotate_cell_type`, `ai_annotate_biological_process`, and `ai_unify_labels`, which all operate over many adata at once.\n",
    "\n",
    "\n",
    "\n",
    "This package supports many external LLM providers (including OpenAI, Anthropic, Google, and Bedrock). To use these, you'll need an API key. Directions on how to get an OpenAI API key can be found here: https://platform.openai.com/docs/quickstart/account-setup, and for Anthropic, here: https://docs.anthropic.com/en/api/getting-started.\n",
    "\n",
    "### If you like functions:\n",
    "The main function in this package is `adata_dict_fapply()` (and its cousin `adata_dict_fapply_return()`, which does the same thing but also returns the result as a dictionary). \n",
    "\n",
    "`adata_dict_fapply()` works just like `lapply()` in R. It takes `adata_dict_fapply(adata_dict, func, **kwargs)`. \n",
    "\n",
    "- `adata_dict` is a dictionary.\n",
    "- `func` is a function to apply over each element of the dictionary.\n",
    "- `**kwargs` are arguments that `func` takes.\n",
    "\n",
    "You can have `func` take the argument `adt_key` (i.e., `func(adata, adt_key=None)`) if you want the dictionary key to be available within `func`.\n",
    "\n",
    "The value for any **kwarg can be either: 1) a single value to be used for all anndata in adata_dict, or 2) a dictionary with the same keys as adata, and a separate value for each anndata in adata_dict.\n",
    "\n",
    "Many functions in `anndict` are built around `adata_dict_fapply()`, and the package provides prebuilt wrappers for several common Scanpy functions, as well as functions to build and concatenate `adata` dictionaries.\n",
    "\n",
    "### If you like objects (under development):\n",
    "This package also defines the class AdataDict(), which is a dictionary of anndatas. When a method is called on an AdataDict, it is applied independently to each adata in the dictionary. Currently in beta.\n",
    "\n",
    "The syntax looks like this: `adata_dict.fapply(func, **kwargs)`, where `adata_dict`, `func`, and `**kwargs` are as defined above.\n"
   ]
  },
  {
   "cell_type": "markdown",
   "metadata": {},
   "source": [
    "Read the tutorial below for basic demonstrations."
   ]
  },
  {
   "cell_type": "markdown",
   "metadata": {},
   "source": [
    "# Tutorial\n",
    "This is the tutorial notebook for `AnnDictionary`. Follow the tutorial below to get started.\n",
    "\n",
    "See `tutorial_notbooks` for other tutorials:\n",
    "\n",
    "- Basic Tutorial (learn the basic mechanics of this package)\n",
    "- Label transfer with the Universal Cell Embedding (UCE)\n",
    "- Automated spatial transcriptomic annotation with UCE"
   ]
  },
  {
   "cell_type": "code",
   "execution_count": null,
   "metadata": {},
   "outputs": [],
   "source": [
    "import anndict as adt\n",
    "import scanpy as sc\n",
    "import time\n",
    "import warnings\n",
    "warnings.filterwarnings('ignore')"
   ]
  },
  {
   "cell_type": "markdown",
   "metadata": {},
   "source": [
    "## Set up the LLM backend.\n",
    "This package supports most LLMs including those offered by OpenAI, Anthropic, Google Gen AI, and Amazon Bedrock (if there's one you want that we don't support yet, let us know). Any of these can be configured or swapped with the single function call below to `adt.configure_llm_backend`. This function takes 3 required arguments, `provider`, `model`, and `api_key`, and then any provider-specific configurations as additional keyword arguments. See the documentation for examples of how to use this function with other providers."
   ]
  },
  {
   "cell_type": "code",
   "execution_count": null,
   "metadata": {},
   "outputs": [],
   "source": [
    "adt.configure_llm_backend(provider='anthropic',\n",
    "                          model='claude-3-5-sonnet-20240620',\n",
    "                          api_key='your-anthropic-api-key',\n",
    "                          requests_per_minute=500\n",
    "                          )"
   ]
  },
  {
   "cell_type": "code",
   "execution_count": null,
   "metadata": {},
   "outputs": [],
   "source": [
    "#read data\n",
    "adata_path = 'path-to-your-adata.h5ad'\n",
    "adata = sc.read_h5ad(adata_path)"
   ]
  },
  {
   "cell_type": "code",
   "execution_count": null,
   "metadata": {},
   "outputs": [],
   "source": [
    "#set X to be raw counts\n",
    "adata.X = adata.layers['raw_counts'].copy()"
   ]
  },
  {
   "cell_type": "code",
   "execution_count": null,
   "metadata": {},
   "outputs": [],
   "source": [
    "#get only protein coding genes\n",
    "\n",
    "#load/define your list of protein-coding genes here, otherwise, annotationw will be based on all genes in object\n",
    "protein_coding = None\n",
    "\n",
    "if protein_coding:\n",
    "    adata.var['protein_coding'] = [(i in protein_coding) for i in adata.var_names]\n",
    "    # Subset to keep only protein-coding genes\n",
    "    adata = adata[:, adata.var['protein_coding']].copy()"
   ]
  },
  {
   "cell_type": "markdown",
   "metadata": {},
   "source": [
    "## Build the dictionary of anndatas.\n",
    "The function `adt.build_adata_dict` will create separate anndatas based on the column names you provide. The following code creates a dictionary where each entry is the anndata for an individual tissue. You can also select only certain tissues by setting the argument `desired_strata`. See the Basic Tutorial notebook and function documentation for more examples and information on how to use this function."
   ]
  },
  {
   "cell_type": "code",
   "execution_count": null,
   "metadata": {},
   "outputs": [],
   "source": [
    "#build adata_dict\n",
    "adata_dict = adt.build_adata_dict(adata, ['tissue'])"
   ]
  },
  {
   "cell_type": "code",
   "execution_count": null,
   "metadata": {},
   "outputs": [],
   "source": [
    "#remove a standard list of uninformative genes\n",
    "abundant_rnas = [\n",
    "    \"MALAT1\",\n",
    "    \"NEAT1\",\n",
    "    \"XIST\",\n",
    "    \"KCNQ1OT1\",\n",
    "    \"RPPH1\",\n",
    "    \"RN7SL1\",\n",
    "    \"RMRP\",\n",
    "    \"SNHG1\",\n",
    "    \"MIAT\",\n",
    "    \"H19\"\n",
    "]\n",
    "\n",
    "adt.remove_genes_adata_dict(adata_dict, abundant_rnas)"
   ]
  },
  {
   "cell_type": "markdown",
   "metadata": {},
   "source": [
    "This section is just the standard Scanpy preprocessing pipeline, except here, we do it on each tissue independently and in parallel (by taking advantage of multithreading)."
   ]
  },
  {
   "cell_type": "code",
   "execution_count": null,
   "metadata": {},
   "outputs": [],
   "source": [
    "#Run leiden clustering on each adata independently\n",
    "#adata.X is raw counts, so run standard preprocessing\n",
    "# Normalize each AnnData in the dictionary\n",
    "adt.normalize_adata_dict(adata_dict)\n",
    "\n",
    "# Log transform each AnnData in the dictionary\n",
    "adt.log_transform_adata_dict(adata_dict)\n",
    "\n",
    "# Optionally, you might subset the data to only high-variance genes\n",
    "adt.set_high_variance_genes_adata_dict(adata_dict, n_top_genes=2000, subset=False)\n",
    "\n",
    "# Scale each AnnData in the dictionary\n",
    "adt.scale_adata_dict(adata_dict)\n",
    "\n",
    "# Perform PCA on each AnnData in the dictionary\n",
    "adt.pca_adata_dict(adata_dict, n_comps=50, mask_var='highly_variable')\n",
    "\n",
    "#Calculate the neighborhood graph\n",
    "adt.neighbors_adata_dict(adata_dict)\n",
    "\n",
    "#Calculate the UMAP\n",
    "adt.calculate_umap_adata_dict(adata_dict)"
   ]
  },
  {
   "cell_type": "code",
   "execution_count": null,
   "metadata": {},
   "outputs": [],
   "source": [
    "#Determine appropriate cluster resolutions using AI. This function only works with LLMs that accept image inputs\n",
    "#This will leave the final column as 'leiden' in the .obs of each anndata\n",
    "# appropriate_resolution_dict = adt.ai_determine_leiden_resolution_adata_dict(adata_dict, initial_resolution=0.5)"
   ]
  },
  {
   "cell_type": "code",
   "execution_count": null,
   "metadata": {},
   "outputs": [],
   "source": [
    "#recluster at 0.5 for this example\n",
    "#get leiden clusters\n",
    "adt.leiden_adata_dict(adata_dict, resolution=0.5)\n",
    "\n",
    "# could also do \n",
    "# adt.leiden_adata_dict(adata_dict, resolution=appropriate_resolution_dict)"
   ]
  },
  {
   "cell_type": "code",
   "execution_count": null,
   "metadata": {},
   "outputs": [],
   "source": [
    "#Run differential expression analysis independently on each anndata in adata_dict\n",
    "adt.rank_genes_groups_adata_dict(adata_dict, groupby='leiden')"
   ]
  },
  {
   "cell_type": "markdown",
   "metadata": {},
   "source": [
    "#### Now, run the LLM cell type annotation functions. Here's the rationale for this series of steps:\n",
    "- First, Use an LLM to label each leiden cluster based on the top differentially expressed genes using `ai_annotate_cell_type_adata_dict`.\n",
    "- Because each cluster is labelled independently, there might be some redundant labels with slight differences, for example ('Macropage' and 'macrophage.'). So, the next step is to use an LLM to merge these redundant category labels with `simplify_obs_column_adata_dict`.\n",
    "- Finally, the dictionary of anndatas is merged into a single anndata. At this point, since each anndata has been processed independently, there might again be redundancies, which we remove (with an LLM) using `ensure_label_consistency_adata`. Note that this function can take a list of columns across which to unify labels (here we pass only a single column)."
   ]
  },
  {
   "cell_type": "code",
   "execution_count": null,
   "metadata": {},
   "outputs": [],
   "source": [
    "#get the model name directly from the LLM config (just for naming the column in .obs)\n",
    "model = adt.get_llm_config()['model']\n",
    "\n",
    "#use an LLM to annotate celltypes based on the 'leiden' column, pass tissue information from 'tissue' column. The new label column will be as passed to label_column.\n",
    "label_results = adt.ai_annotate_cell_type_adata_dict(adata_dict, groupby='leiden', n_top_genes=10, label_column=f'{model}_ai_cell_type', tissue_of_origin_col='tissue')\n",
    "\n",
    "#These labels seem to have some redundancy, let's merge them with AI\n",
    "ai_label_column = f'{model}_simplified_ai_cell_type'\n",
    "simplified_mappings = adt.simplify_obs_column_adata_dict(adata_dict, f'{model}_ai_cell_type', ai_label_column, simplification_level='redundancy-removed')"
   ]
  },
  {
   "cell_type": "code",
   "execution_count": null,
   "metadata": {},
   "outputs": [],
   "source": [
    "#Merge the adata_dict\n",
    "adata = adt.concatenate_adata_dict(adata_dict)"
   ]
  },
  {
   "cell_type": "code",
   "execution_count": null,
   "metadata": {},
   "outputs": [],
   "source": [
    "#unify the labels from the different adata in the adata_dict (i.e. use an LLM to merge categories like 'Macrophage' and 'macrophages.')\n",
    "label_map_with_manual = adt.ensure_label_consistency_adata(adata, ai_label_column, simplification_level='unified', new_col_prefix='unified')"
   ]
  },
  {
   "cell_type": "code",
   "execution_count": null,
   "metadata": {},
   "outputs": [],
   "source": [
    "#write the adata\n",
    "path_to_write_adata = 'your-path-here.h5ad'\n",
    "adata.write(path_to_write_adata)"
   ]
  }
 ],
 "metadata": {
  "kernelspec": {
   "display_name": "adict",
   "language": "python",
   "name": "python3"
  },
  "language_info": {
   "name": "python",
   "version": "3.9.19"
  }
 },
 "nbformat": 4,
 "nbformat_minor": 2
}
