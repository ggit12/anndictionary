{
 "cells": [
  {
   "cell_type": "code",
   "execution_count": null,
   "metadata": {},
   "outputs": [],
   "source": [
    "import anndict as adt\n",
    "import scanpy as sc\n",
    "import time\n",
    "import warnings\n",
    "warnings.filterwarnings('ignore')"
   ]
  },
  {
   "cell_type": "code",
   "execution_count": null,
   "metadata": {},
   "outputs": [],
   "source": [
    "#set configuration for llm providers\n",
    "provider_config = {\n",
    "    'anthropic': {\n",
    "        'provider': 'anthropic',\n",
    "        'api_key': 'your-anthropic-api-key-here',\n",
    "        'requests_per_minute': 500, ##this is usage tier 2, max 1000\n",
    "    },\n",
    "}\n",
    "\n",
    "\n",
    "provider_endpoint_dict = {\n",
    "    'bedrock' :[\n",
    "        'meta.llama3-1-8b-instruct-v1:0',\n",
    "        'meta.llama3-1-70b-instruct-v1:0',\n",
    "        'meta.llama3-1-405b-instruct-v1:0',\n",
    "        'cohere.command-r-plus-v1:0',\n",
    "        'mistral.mistral-large-2407-v1:0',\n",
    "    ],\n",
    "    'google' : [\n",
    "        'gemini-1.5-pro',\n",
    "        'gemini-1.5-flash'\n",
    "    ],\n",
    "    'openai': [\n",
    "        'gpt-4',\n",
    "        'gpt-4o',  \n",
    "        'gpt-4o-mini'\n",
    "    ],\n",
    "    'anthropic': [\n",
    "        'claude-3-5-sonnet-20240620',\n",
    "        'claude-3-opus-20240229',\n",
    "        'claude-3-haiku-20240307'\n",
    "    ],\n",
    "}"
   ]
  },
  {
   "cell_type": "code",
   "execution_count": null,
   "metadata": {},
   "outputs": [],
   "source": [
    "adt.configure_llm_backend(provider='anthropic',\n",
    "                          model='claude-3-5-sonnet-20240620',\n",
    "                          api_key=provider_config['anthropic']['api_key'],\n",
    "                          requests_per_minute=500\n",
    "                          )"
   ]
  },
  {
   "cell_type": "code",
   "execution_count": null,
   "metadata": {},
   "outputs": [],
   "source": [
    "#read data\n",
    "adata_path = 'path-to-your-adata.h5ad'\n",
    "adata = sc.read_h5ad(adata_path)"
   ]
  },
  {
   "cell_type": "code",
   "execution_count": null,
   "metadata": {},
   "outputs": [],
   "source": [
    "#set X to be raw counts\n",
    "adata.X = adata.layers['raw_counts'].copy()"
   ]
  },
  {
   "cell_type": "code",
   "execution_count": null,
   "metadata": {},
   "outputs": [],
   "source": [
    "#get only protein coding genes\n",
    "\n",
    "#load/define your list of protein-coding genes here, otherwise, annotationw will be based on all genes in object\n",
    "protein_coding = None\n",
    "\n",
    "if protein_coding:\n",
    "    adata.var['protein_coding'] = [(i in protein_coding) for i in adata.var_names]\n",
    "    # Subset to keep only protein-coding genes\n",
    "    adata = adata[:, adata.var['protein_coding']].copy()"
   ]
  },
  {
   "cell_type": "code",
   "execution_count": null,
   "metadata": {},
   "outputs": [],
   "source": [
    "#build adata_dict\n",
    "adata_dict = adt.build_adata_dict(adata, ['tissue'])"
   ]
  },
  {
   "cell_type": "code",
   "execution_count": null,
   "metadata": {},
   "outputs": [],
   "source": [
    "#remove a standard list of uninformative genes\n",
    "abundant_rnas = [\n",
    "    \"MALAT1\",\n",
    "    \"NEAT1\",\n",
    "    \"XIST\",\n",
    "    \"KCNQ1OT1\",\n",
    "    \"RPPH1\",\n",
    "    \"RN7SL1\",\n",
    "    \"RMRP\",\n",
    "    \"SNHG1\",\n",
    "    \"MIAT\",\n",
    "    \"H19\"\n",
    "]\n",
    "\n",
    "adt.remove_genes_adata_dict(adata_dict, abundant_rnas)"
   ]
  },
  {
   "cell_type": "code",
   "execution_count": null,
   "metadata": {},
   "outputs": [],
   "source": [
    "import gc\n",
    "gc.collect()"
   ]
  },
  {
   "cell_type": "code",
   "execution_count": null,
   "metadata": {},
   "outputs": [],
   "source": [
    "#Run leiden clustering on each adata independently\n",
    "#adata.X is raw counts, so run standard preprocessing\n",
    "# Normalize each AnnData in the dictionary\n",
    "adt.normalize_adata_dict(adata_dict)\n",
    "\n",
    "# Log transform each AnnData in the dictionary\n",
    "adt.log_transform_adata_dict(adata_dict)\n",
    "\n",
    "# Optionally, you might subset the data to only high-variance genes\n",
    "adt.set_high_variance_genes_adata_dict(adata_dict, n_top_genes=2000, subset=False)\n",
    "\n",
    "# Scale each AnnData in the dictionary\n",
    "adt.scale_adata_dict(adata_dict)\n",
    "\n",
    "# Perform PCA on each AnnData in the dictionary\n",
    "adt.pca_adata_dict(adata_dict, n_comps=50, mask_var='highly_variable')\n",
    "\n",
    "#Calculate the neighborhood graph\n",
    "adt.neighbors_adata_dict(adata_dict)\n",
    "\n",
    "#Calculate the UMAP\n",
    "adt.calculate_umap_adata_dict(adata_dict)\n",
    "\n",
    "#get leiden clusters\n",
    "# adt.leiden_adata_dict(adata_dict)"
   ]
  },
  {
   "cell_type": "code",
   "execution_count": null,
   "metadata": {},
   "outputs": [],
   "source": [
    "#Determine appropriate cluster resolutions using AI\n",
    "#This will leave the final column as 'leiden' in the .obs of each anndata\n",
    "# appropriate_resolution_dict = adt.ai_determine_leiden_resolution_adata_dict(adata_dict, initial_resolution=0.5)"
   ]
  },
  {
   "cell_type": "code",
   "execution_count": null,
   "metadata": {},
   "outputs": [],
   "source": [
    "#saved from previous run\n",
    "appropriate_resolution_dict = {'Bladder': 0.05,\n",
    " 'Blood': 0.5,\n",
    " 'Bone_Marrow': 0.5,\n",
    " 'Ear': 0.5,\n",
    " 'Eye': 0.05,\n",
    " 'Fat': 0.05,\n",
    " 'Heart': 0.05,\n",
    " 'Kidney': 0.05,\n",
    " 'Large_Intestine': 0.05,\n",
    " 'Liver': 0.2,\n",
    " 'Lung': 0.2,\n",
    " 'Lymph_Node': 0.5,\n",
    " 'Mammary': 0.05,\n",
    " 'Muscle': 0.2,\n",
    " 'Ovary': 0.05,\n",
    " 'Pancreas': 0.2,\n",
    " 'Prostate': 0.05,\n",
    " 'Salivary_Gland': 0.05,\n",
    " 'Skin': 0.35,\n",
    " 'Small_Intestine': 0.05,\n",
    " 'Spleen': 0.5,\n",
    " 'Stomach': 0.5,\n",
    " 'Testis': 0.35,\n",
    " 'Thymus': 0.5,\n",
    " 'Tongue': 0.5,\n",
    " 'Trachea': 0.35,\n",
    " 'Uterus': 0.2,\n",
    " 'Vasculature': 0.05}\n",
    "\n",
    "#fix some that are too low\n",
    "updated_resolution_dict = appropriate_resolution_dict\n",
    "updated_resolution_dict[('Bladder',\n",
    " 'Eye',\n",
    " 'Fat',\n",
    " 'Heart',\n",
    " 'Kidney',\n",
    " 'Large_Intestine',\n",
    " 'Mammary',\n",
    " 'Ovary',\n",
    " 'Prostate',\n",
    " 'Salivary_Gland',\n",
    " 'Small_Intestine',\n",
    " 'Vasculature')] = 0.5"
   ]
  },
  {
   "cell_type": "code",
   "execution_count": null,
   "metadata": {},
   "outputs": [],
   "source": [
    "#recluster because chatgpt seems to have turned clustering too low\n",
    "#get leiden clusters\n",
    "adt.leiden_adata_dict(adata_dict, resolution=updated_resolution_dict)"
   ]
  },
  {
   "cell_type": "code",
   "execution_count": null,
   "metadata": {},
   "outputs": [],
   "source": [
    "#Run diffexp analysis\n",
    "adt.rank_genes_groups_adata_dict(adata_dict, groupby='leiden')"
   ]
  },
  {
   "cell_type": "code",
   "execution_count": null,
   "metadata": {},
   "outputs": [],
   "source": [
    "model = adt.get_llm_config()['model']\n",
    "label_results = adt.ai_annotate_cell_type_adata_dict(adata_dict, groupby='leiden', n_top_genes=10, label_column=f'{model}_ai_cell_type', tissue_of_origin_col='tissue')\n",
    "\n",
    "#These labels seem to have some redundancy, let's merge them with AI\n",
    "ai_label_column = f'{model}_simplified_ai_cell_type'\n",
    "simplified_mappings = adt.simplify_obs_column_adata_dict(adata_dict, f'{model}_ai_cell_type', ai_label_column, simplification_level='redundancy-removed')"
   ]
  },
  {
   "cell_type": "code",
   "execution_count": null,
   "metadata": {},
   "outputs": [],
   "source": [
    "#Merge the adata_dict\n",
    "adata = adt.concatenate_adata_dict(adata_dict)"
   ]
  },
  {
   "cell_type": "code",
   "execution_count": null,
   "metadata": {},
   "outputs": [],
   "source": [
    "#unify the labels from the different adata in the adata_dict\n",
    "label_map_with_manual = adt.ensure_label_consistency_adata(adata, ai_label_column, simplification_level='unified', new_col_prefix='unified')"
   ]
  },
  {
   "cell_type": "code",
   "execution_count": null,
   "metadata": {},
   "outputs": [],
   "source": [
    "#write the adata\n",
    "path_to_write_adata = 'your-path-here.h5ad'\n",
    "adata.write(path_to_write_adata)"
   ]
  }
 ],
 "metadata": {
  "kernelspec": {
   "display_name": "adict",
   "language": "python",
   "name": "python3"
  },
  "language_info": {
   "name": "python",
   "version": "3.9.19"
  }
 },
 "nbformat": 4,
 "nbformat_minor": 2
}
